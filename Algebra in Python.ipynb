{
 "cells": [
  {
   "cell_type": "markdown",
   "id": "09532728-0562-4ed8-b489-4386ff41e7b2",
   "metadata": {
    "jp-MarkdownHeadingCollapsed": true
   },
   "source": [
    "# Algebra in Python\n",
    "\n",
    "This notebook demonstrates the use of a number of common Python modules, useful for algebra and other\n",
    "common mathematical functions.\n",
    "\n",
    "# License\n",
    "\n",
    "See **LICENSE.md** for details."
   ]
  },
  {
   "cell_type": "markdown",
   "id": "6718dd13-6121-4986-9761-efb4510d88b2",
   "metadata": {},
   "source": [
    "# Solving Equations\n",
    "\n",
    "- e.g. $y=2x^2-3x+7,$ solve for $x.$"
   ]
  },
  {
   "cell_type": "code",
   "execution_count": 1,
   "id": "6ba1cdf8-d042-4ea2-8ee8-86c575d5a1de",
   "metadata": {},
   "outputs": [
    {
     "data": {
      "text/latex": [
       "$\\displaystyle \\left\\{\\frac{3}{4} - \\frac{\\sqrt{8 y - 47}}{4}, \\frac{\\sqrt{8 y - 47}}{4} + \\frac{3}{4}\\right\\}$"
      ],
      "text/plain": [
       "{3/4 - sqrt(8*y - 47)/4, sqrt(8*y - 47)/4 + 3/4}"
      ]
     },
     "execution_count": 1,
     "metadata": {},
     "output_type": "execute_result"
    }
   ],
   "source": [
    "from sympy import symbols, solveset\n",
    "\n",
    "x, y = symbols(\"x y\")\n",
    "\n",
    "eq = 2*x**2-3*x+7-y\n",
    "solveset(eq,x)"
   ]
  },
  {
   "cell_type": "markdown",
   "id": "846af712-a0c4-44ea-ae59-fc07ca1c8fd9",
   "metadata": {},
   "source": [
    "# Factoring\n",
    "\n",
    "- e.g. Factor $x^2-4x+3.$"
   ]
  },
  {
   "cell_type": "code",
   "execution_count": 2,
   "id": "f0d0a0bb-c2c4-4a78-9e69-3a81eaab926c",
   "metadata": {},
   "outputs": [
    {
     "data": {
      "text/latex": [
       "$\\displaystyle \\left(x - 3\\right) \\left(x - 1\\right)$"
      ],
      "text/plain": [
       "(x - 3)*(x - 1)"
      ]
     },
     "execution_count": 2,
     "metadata": {},
     "output_type": "execute_result"
    }
   ],
   "source": [
    "from sympy import factor\n",
    "\n",
    "eq = x**2-4*x+3\n",
    "factor(eq)"
   ]
  },
  {
   "cell_type": "markdown",
   "id": "66cf6974-ab10-4a41-8787-0e4146bea0e4",
   "metadata": {},
   "source": [
    "Therefore, two possible solutions to the equation $x^2-4x+3=0$ are:\n",
    "\n",
    "$x=3$ and $x=1.$"
   ]
  },
  {
   "cell_type": "markdown",
   "id": "06acdbc5-97af-46ac-9ec7-6bac59358043",
   "metadata": {},
   "source": [
    "# Plotting\n",
    "\n",
    "- e.g. Generate a plot of the function $f(x)=x^2-9.$"
   ]
  },
  {
   "cell_type": "code",
   "execution_count": 6,
   "id": "ad5c8881-015d-43b8-ae95-bdce66073165",
   "metadata": {},
   "outputs": [
    {
     "data": {
      "application/vnd.jupyter.widget-view+json": {
       "model_id": "e464d5477dbe4fd987d5e674567bd472",
       "version_major": 2,
       "version_minor": 0
      },
      "text/plain": [
       "interactive(children=(IntSlider(value=55, description='xlimit', min=10), Output()), _dom_classes=('widget-inte…"
      ]
     },
     "metadata": {},
     "output_type": "display_data"
    }
   ],
   "source": [
    "%matplotlib inline\n",
    "\n",
    "from sympy import plot\n",
    "from ipywidgets import interact\n",
    "\n",
    "# Adjust the slider to change the domain of the graph!\n",
    "\n",
    "@interact(xlimit=(10,100))\n",
    "def plot_function(xlimit):\n",
    "    plot(x**2-9, xlim=(-xlimit, xlimit),show=True, title=\"Plot of $x^2-9$\")"
   ]
  },
  {
   "cell_type": "code",
   "execution_count": null,
   "id": "37691b69-5307-4a3d-a510-eb8d43cdaa21",
   "metadata": {},
   "outputs": [],
   "source": []
  }
 ],
 "metadata": {
  "kernelspec": {
   "display_name": "Python 3 (ipykernel)",
   "language": "python",
   "name": "python3"
  },
  "language_info": {
   "codemirror_mode": {
    "name": "ipython",
    "version": 3
   },
   "file_extension": ".py",
   "mimetype": "text/x-python",
   "name": "python",
   "nbconvert_exporter": "python",
   "pygments_lexer": "ipython3",
   "version": "3.12.1"
  }
 },
 "nbformat": 4,
 "nbformat_minor": 5
}
